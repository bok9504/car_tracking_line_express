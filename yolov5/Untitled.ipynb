{
 "cells": [
  {
   "cell_type": "code",
   "execution_count": 1,
   "id": "compound-sullivan",
   "metadata": {},
   "outputs": [],
   "source": [
    "from glob import glob\n",
    "import os\n",
    "from sklearn.model_selection import train_test_split"
   ]
  },
  {
   "cell_type": "code",
   "execution_count": 2,
   "id": "danish-affiliation",
   "metadata": {},
   "outputs": [],
   "source": [
    "dataset = os.listdir('./dataset/')"
   ]
  },
  {
   "cell_type": "code",
   "execution_count": 3,
   "id": "severe-faculty",
   "metadata": {},
   "outputs": [
    {
     "data": {
      "text/plain": [
       "['0148', '0156', '0168', '0170', '0224', '260', '300-1']"
      ]
     },
     "execution_count": 3,
     "metadata": {},
     "output_type": "execute_result"
    }
   ],
   "source": [
    "dataset"
   ]
  },
  {
   "cell_type": "code",
   "execution_count": 4,
   "id": "wicked-toilet",
   "metadata": {},
   "outputs": [],
   "source": [
    "img_list = []\n",
    "for data in dataset:\n",
    "    img = glob(os.getcwd() + '/dataset/{}/*.jpg'.format(data))\n",
    "    img_list.extend(img)    "
   ]
  },
  {
   "cell_type": "code",
   "execution_count": 5,
   "id": "limited-technical",
   "metadata": {},
   "outputs": [],
   "source": [
    "train_img_list, val_img_list = train_test_split(img_list, test_size=0.2, random_state=2000)"
   ]
  },
  {
   "cell_type": "code",
   "execution_count": 6,
   "id": "clinical-wallace",
   "metadata": {},
   "outputs": [],
   "source": [
    "with open('./dataset/train.txt', 'w+') as f:\n",
    "    f.write('\\n'.join(train_img_list) + '\\n')\n",
    "with open('./dataset/val.txt', 'w+') as f:\n",
    "    f.write('\\n'.join(val_img_list) + '\\n')"
   ]
  },
  {
   "cell_type": "code",
   "execution_count": null,
   "id": "fifth-intelligence",
   "metadata": {},
   "outputs": [],
   "source": []
  },
  {
   "cell_type": "code",
   "execution_count": null,
   "id": "frequent-nevada",
   "metadata": {},
   "outputs": [],
   "source": []
  },
  {
   "cell_type": "code",
   "execution_count": 7,
   "id": "reliable-start",
   "metadata": {},
   "outputs": [
    {
     "name": "stdout",
     "output_type": "stream",
     "text": [
      "['0148', '0156', '0168', '0170', '0224', '260', '300-1']\n"
     ]
    }
   ],
   "source": [
    "print(dataset)"
   ]
  },
  {
   "cell_type": "code",
   "execution_count": 8,
   "id": "selective-rehabilitation",
   "metadata": {},
   "outputs": [],
   "source": [
    "img_list = []\n",
    "for data in dataset:\n",
    "    img = glob(os.getcwd() + '/dataset/{}/*.txt'.format(data))\n",
    "    img_list.extend(img)"
   ]
  },
  {
   "cell_type": "code",
   "execution_count": 10,
   "id": "romance-effects",
   "metadata": {},
   "outputs": [
    {
     "data": {
      "text/plain": [
       "975"
      ]
     },
     "execution_count": 10,
     "metadata": {},
     "output_type": "execute_result"
    }
   ],
   "source": [
    "len(img_list)"
   ]
  },
  {
   "cell_type": "code",
   "execution_count": 12,
   "id": "limiting-samba",
   "metadata": {},
   "outputs": [],
   "source": [
    "car = []\n",
    "bus = []\n",
    "truck = []"
   ]
  },
  {
   "cell_type": "code",
   "execution_count": 13,
   "id": "organizational-friday",
   "metadata": {},
   "outputs": [],
   "source": [
    "for data in dataset:\n",
    "    datalist = glob(os.getcwd() + '/dataset/{}/*.txt'.format(data))\n",
    "    for txtfile in datalist:\n",
    "        f = open(txtfile, 'r')\n",
    "        lines = f.readlines()\n",
    "        for line in lines:\n",
    "            item = line.split(\" \")\n",
    "            if int(item[0]) == 0:\n",
    "                car.append(item)\n",
    "            elif int(item[0]) == 1:\n",
    "                bus.append(item)\n",
    "            else:\n",
    "                truck.append(item)"
   ]
  },
  {
   "cell_type": "code",
   "execution_count": 16,
   "id": "suspected-border",
   "metadata": {},
   "outputs": [
    {
     "name": "stdout",
     "output_type": "stream",
     "text": [
      "52285\n",
      "8903\n",
      "4154\n"
     ]
    }
   ],
   "source": [
    "print(len(car))\n",
    "print(len(bus))\n",
    "print(len(truck))"
   ]
  },
  {
   "cell_type": "code",
   "execution_count": null,
   "id": "spatial-carter",
   "metadata": {},
   "outputs": [],
   "source": []
  }
 ],
 "metadata": {
  "kernelspec": {
   "display_name": "test_torch",
   "language": "python",
   "name": "test_torch"
  },
  "language_info": {
   "codemirror_mode": {
    "name": "ipython",
    "version": 3
   },
   "file_extension": ".py",
   "mimetype": "text/x-python",
   "name": "python",
   "nbconvert_exporter": "python",
   "pygments_lexer": "ipython3",
   "version": "3.8.5"
  }
 },
 "nbformat": 4,
 "nbformat_minor": 5
}
